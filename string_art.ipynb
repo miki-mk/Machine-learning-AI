{
 "cells": [
  {
   "cell_type": "code",
   "execution_count": 22,
   "id": "c4e0460a",
   "metadata": {},
   "outputs": [],
   "source": [
    "import cv2\n",
    "import numpy as np\n",
    "from skimage.draw import line"
   ]
  },
  {
   "cell_type": "code",
   "execution_count": null,
   "id": "f6bae8e9",
   "metadata": {},
   "outputs": [],
   "source": [
    "num_iterations = 10000"
   ]
  },
  {
   "cell_type": "code",
   "execution_count": 24,
   "id": "e7755e5d",
   "metadata": {},
   "outputs": [],
   "source": [
    "def disp(canvas = canvas):\n",
    "    cv2.imshow('Circles', canvas)\n",
    "    cv2.waitKey(0)\n",
    "    cv2.destroyAllWindows()"
   ]
  },
  {
   "cell_type": "code",
   "execution_count": 25,
   "id": "69d62949",
   "metadata": {},
   "outputs": [],
   "source": [
    "def generate_points(cx, cy, radius, num_points):\n",
    "    \"\"\"Generate points evenly spaced on a circle with center (cx, cy) and given radius.\"\"\"\n",
    "    points = []\n",
    "    for i in range(num_points):\n",
    "        theta = 2 * np.pi * i / num_points\n",
    "        x = cx + radius * np.cos(theta)\n",
    "        y = cy + radius * np.sin(theta)\n",
    "        points.append((int(round(x)), int(round(y))))\n",
    "    return points"
   ]
  },
  {
   "cell_type": "code",
   "execution_count": 26,
   "id": "4dc71c75",
   "metadata": {},
   "outputs": [],
   "source": [
    "h = 1000\n",
    "w = 1000\n",
    "canvas = np.full((h, w, 3), 255, dtype=np.uint8)\n",
    "thickness = 1\n",
    "points = generate_points(w/2,h/2,w/2,500)\n",
    "for center_x, center_y in points:\n",
    "    cv2.circle(canvas, (center_x, center_y), 1, 0 , thickness)\n",
    "disp()\n"
   ]
  },
  {
   "cell_type": "code",
   "execution_count": 27,
   "id": "f2d13619",
   "metadata": {},
   "outputs": [],
   "source": [
    "def get_line_pixels(p1, p2):\n",
    "    \"\"\"Get the list of pixels along a line between two points.\"\"\"\n",
    "    x1, y1 = p1\n",
    "    x2, y2 = p2\n",
    "    rr, cc = line(y1, x1, y2, x2)\n",
    "    return list(zip(cc, rr))  # Returns list of (x,y) coordinates"
   ]
  },
  {
   "cell_type": "code",
   "execution_count": 28,
   "id": "93b539c3",
   "metadata": {},
   "outputs": [],
   "source": [
    "lin = get_line_pixels(points[0],points[100])\n",
    "for center_x, center_y in lin:\n",
    "    cv2.circle(canvas, (center_x, center_y), 1, 0 , thickness)\n",
    "disp()"
   ]
  },
  {
   "cell_type": "code",
   "execution_count": 71,
   "id": "ee149513",
   "metadata": {},
   "outputs": [],
   "source": [
    "image_path = 'circle2.png'  # Replace with your image path\n",
    "original_image = cv2.imread(image_path, cv2.IMREAD_GRAYSCALE)\n",
    "height, width = original_image.shape\n",
    "minVal, maxVal = 100, 200\n",
    "edges = cv2.Canny(original_image, minVal, maxVal)\n",
    "img = cv2.bitwise_not(edges)\n",
    "disp(img)"
   ]
  },
  {
   "cell_type": "code",
   "execution_count": null,
   "id": "946a40d5",
   "metadata": {},
   "outputs": [],
   "source": []
  },
  {
   "cell_type": "code",
   "execution_count": null,
   "id": "95ef51e9",
   "metadata": {},
   "outputs": [],
   "source": []
  },
  {
   "cell_type": "code",
   "execution_count": null,
   "id": "1277cfa2",
   "metadata": {},
   "outputs": [],
   "source": []
  }
 ],
 "metadata": {
  "kernelspec": {
   "display_name": "Python 3",
   "language": "python",
   "name": "python3"
  },
  "language_info": {
   "codemirror_mode": {
    "name": "ipython",
    "version": 3
   },
   "file_extension": ".py",
   "mimetype": "text/x-python",
   "name": "python",
   "nbconvert_exporter": "python",
   "pygments_lexer": "ipython3",
   "version": "3.12.0"
  }
 },
 "nbformat": 4,
 "nbformat_minor": 5
}
