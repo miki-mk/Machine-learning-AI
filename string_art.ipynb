{
 "cells": [
  {
   "cell_type": "code",
   "execution_count": null,
   "metadata": {},
   "outputs": [],
   "source": []
  },
  {
   "cell_type": "code",
   "execution_count": 2,
   "metadata": {},
   "outputs": [],
   "source": [
    "import cv2\n",
    "import numpy as np\n",
    "import math\n",
    "from random import randint"
   ]
  },
  {
   "cell_type": "code",
   "execution_count": null,
   "metadata": {},
   "outputs": [],
   "source": []
  },
  {
   "cell_type": "code",
   "execution_count": 3,
   "metadata": {},
   "outputs": [
    {
     "data": {
      "text/plain": [
       "'\\nnew_width, new_height = 600 , 600\\nim = cv2.imread(\"f1.jpg\", cv2.IMREAD_GRAYSCALE)\\nresized_image = cv2.resize(im, (new_width, new_height))\\ncv2.imshow(\\'Circles\\',resized_image )\\ncv2.waitKey(0)\\ncv2.destroyAllWindows()\\n'"
      ]
     },
     "execution_count": 3,
     "metadata": {},
     "output_type": "execute_result"
    }
   ],
   "source": [
    "\"\"\"\n",
    "new_width, new_height = 600 , 600\n",
    "im = cv2.imread(\"f1.jpg\", cv2.IMREAD_GRAYSCALE)\n",
    "resized_image = cv2.resize(im, (new_width, new_height))\n",
    "cv2.imshow('Circles',resized_image )\n",
    "cv2.waitKey(0)\n",
    "cv2.destroyAllWindows()\n",
    "\"\"\""
   ]
  },
  {
   "cell_type": "code",
   "execution_count": 4,
   "metadata": {},
   "outputs": [],
   "source": [
    "def crop_to_circle(image):\n",
    "    \"\"\"Crop the input image to a circular shape.\"\"\"\n",
    "    height, width = image.shape\n",
    "    center = (width // 2, height // 2)\n",
    "    radius = min(center)\n",
    "    \n",
    "    # Create a circular mask\n",
    "    mask = np.zeros((height, width), dtype=np.uint8)\n",
    "    cv2.circle(mask, center, radius, 255, -1)\n",
    "    \n",
    "    # Apply the mask to the image\n",
    "    cropped = cv2.bitwise_and(image, image, mask=mask)\n",
    "    return cropped, center, radius\n",
    "def generate_nail_positions(center, radius, num_nails):\n",
    "    \"\"\"Generate evenly spaced nail positions around the circle.\"\"\"\n",
    "    nails = []\n",
    "    for i in range(num_nails):\n",
    "        angle = 2 * math.pi * i / num_nails\n",
    "        x = int(center[0] + radius * math.cos(angle))\n",
    "        y = int(center[1] + radius * math.sin(angle))\n",
    "        nails.append((x, y))\n",
    "    return nails\n"
   ]
  },
  {
   "cell_type": "code",
   "execution_count": 5,
   "metadata": {},
   "outputs": [],
   "source": [
    "def bresenham_line(x0, y0, x1, y1):\n",
    "    \"\"\"Return a list of points along a straight line between (x0, y0) and (x1, y1).\"\"\"\n",
    "    points = []\n",
    "    dx = abs(x1 - x0)\n",
    "    dy = abs(y1 - y0)\n",
    "    sx = 1 if x0 < x1 else -1\n",
    "    sy = 1 if y0 < y1 else -1\n",
    "    err = dx - dy\n",
    "    while True:\n",
    "        points.append((x0, y0))\n",
    "        if x0 == x1 and y0 == y1:\n",
    "            break\n",
    "        e2 = 2 * err\n",
    "        if e2 > -dy:\n",
    "            err -= dy\n",
    "            x0 += sx\n",
    "        if e2 < dx:\n",
    "            err += dx\n",
    "            y0 += sy\n",
    "    return points\n"
   ]
  },
  {
   "cell_type": "code",
   "execution_count": 14,
   "metadata": {},
   "outputs": [
    {
     "name": "stdout",
     "output_type": "stream",
     "text": [
      "[(1000, 500), (999, 515), (999, 531), (997, 547), (996, 562), (993, 578), (991, 593), (987, 609), (984, 624), (980, 639), (975, 654), (970, 669), (964, 684), (958, 698), (952, 712), (945, 726), (938, 740), (930, 754), (922, 767), (913, 781), (904, 793), (895, 806), (885, 818), (875, 830), (864, 842), (853, 853), (842, 864), (830, 875), (818, 885), (806, 895), (793, 904), (781, 913), (767, 922), (754, 930), (740, 938), (726, 945), (712, 952), (698, 958), (684, 964), (669, 970), (654, 975), (639, 980), (624, 984), (609, 987), (593, 991), (578, 993), (562, 996), (547, 997), (531, 999), (515, 999), (500, 1000), (484, 999), (468, 999), (452, 997), (437, 996), (421, 993), (406, 991), (390, 987), (375, 984), (360, 980), (345, 975), (330, 970), (315, 964), (301, 958), (287, 952), (273, 945), (259, 938), (245, 930), (232, 922), (218, 913), (206, 904), (193, 895), (181, 885), (169, 875), (157, 864), (146, 853), (135, 842), (124, 830), (114, 818), (104, 806), (95, 793), (86, 781), (77, 767), (69, 754), (61, 740), (54, 726), (47, 712), (41, 698), (35, 684), (29, 669), (24, 654), (19, 639), (15, 624), (12, 609), (8, 593), (6, 578), (3, 562), (2, 547), (0, 531), (0, 515), (0, 500), (0, 484), (0, 468), (2, 452), (3, 437), (6, 421), (8, 406), (12, 390), (15, 375), (19, 360), (24, 345), (29, 330), (35, 315), (41, 301), (47, 287), (54, 273), (61, 259), (69, 245), (77, 232), (86, 218), (95, 206), (104, 193), (114, 181), (124, 169), (135, 157), (146, 146), (157, 135), (169, 124), (181, 114), (193, 104), (206, 95), (218, 86), (232, 77), (245, 69), (259, 61), (273, 54), (287, 47), (301, 41), (315, 35), (330, 29), (345, 24), (360, 19), (375, 15), (390, 12), (406, 8), (421, 6), (437, 3), (452, 2), (468, 0), (484, 0), (499, 0), (515, 0), (531, 0), (547, 2), (562, 3), (578, 6), (593, 8), (609, 12), (624, 15), (639, 19), (654, 24), (669, 29), (684, 35), (698, 41), (712, 47), (726, 54), (740, 61), (754, 69), (767, 77), (781, 86), (793, 95), (806, 104), (818, 114), (830, 124), (842, 135), (853, 146), (864, 157), (875, 169), (885, 181), (895, 193), (904, 206), (913, 218), (922, 232), (930, 245), (938, 259), (945, 273), (952, 287), (958, 301), (964, 315), (970, 330), (975, 345), (980, 360), (984, 375), (987, 390), (991, 406), (993, 421), (996, 437), (997, 452), (999, 468), (999, 484)]\n"
     ]
    }
   ],
   "source": [
    "image = cv2.imread('m.jpg', cv2.IMREAD_GRAYSCALE)\n",
    "image = cv2.resize(image, (1000, 1000))\n",
    "#_, image = cv2.threshold(image, 127, 255, cv2.THRESH_BINARY_INV)\n",
    "image,c,r = crop_to_circle(image)\n",
    "nail = generate_nail_positions(c,r,200)\n",
    "print(nail)\n",
    "for i in nail:\n",
    "    cv2.circle(image, i , 2, (0, 0, 0), 2)\n",
    "cv2.imshow('String Art', image)\n",
    "cv2.waitKey(0)\n",
    "cv2.destroyAllWindows()"
   ]
  },
  {
   "cell_type": "code",
   "execution_count": null,
   "metadata": {},
   "outputs": [],
   "source": [
    "def calculate_integral(image, nail1, nail2):\n",
    "    \"\"\"Calculate the sum of pixel values along the line between two nails.\"\"\"\n",
    "    line_points = bresenham_line(nail1[0], nail1[1], nail2[0], nail2[1])\n",
    "    total = 0\n",
    "    height, width = image.shape\n",
    "    for x, y in line_points:\n",
    "        if (0 <= x < width) and (0 <= y < height):\n",
    "            total += image[y,x]\n",
    "    return total , len(line_points)\n",
    "\n",
    "def string_art_generator(image, num_nails=200, max_iterations=1000):\n",
    "    \"\"\"Generate a string art sequence from the input image.\"\"\"\n",
    "    # Crop image to circle and get center/radius\n",
    "    cropped_image, center, radius = crop_to_circle(image)\n",
    "    # Generate nail positions\n",
    "    nail_positions = generate_nail_positions(center, radius, num_nails)\n",
    "    # Start at a random nail\n",
    "    current_nail_idx = randint(0, num_nails - 1)\n",
    "    sequence = [current_nail_idx]\n",
    "    visited_pairs = set()\n",
    "    \n",
    "    # Main loop\n",
    "    for _ in range(max_iterations - 1):\n",
    "        current_nail = nail_positions[current_nail_idx]\n",
    "        min_integral = 0.0\n",
    "        next_nail_idx = -1\n",
    "        \n",
    "        # Evaluate all possible next nails\n",
    "        for i, next_nail in enumerate(nail_positions):\n",
    "            if (i == current_nail_idx):# or ((current_nail_idx, i) in visited_pairs):\n",
    "                continue\n",
    "            integral,n = calculate_integral(cropped_image, current_nail, next_nail)\n",
    "            if integral/n > min_integral:  # Lower integral means darker path\n",
    "                min_integral = integral/n\n",
    "                next_nail_idx = i\n",
    "        \n",
    "        # If no valid next nail is found, break\n",
    "        if next_nail_idx == -1:\n",
    "            print(\"broken\")\n",
    "            break\n",
    "        \n",
    "        # Move to the next nail\n",
    "        visited_pairs.add((current_nail_idx, next_nail_idx))\n",
    "        cv2.line(cropped_image, nail_positions[current_nail_idx], nail_positions[next_nail_idx], (63,63,63), 1)\n",
    "        current_nail_idx = next_nail_idx\n",
    "        sequence.append(current_nail_idx)\n",
    "        \n",
    "    return nail_positions, sequence\n",
    "\n",
    "def visualize_string_art(image, nail_positions, sequence):\n",
    "    \"\"\"Visualize the string art on a blank canvas.\"\"\"\n",
    "    canvas = np.ones_like(image) * 255  # White background\n",
    "    for i in range(len(sequence) - 1):\n",
    "        nail1 = nail_positions[sequence[i]]\n",
    "        nail2 = nail_positions[sequence[i + 1]]\n",
    "        cv2.line(canvas, nail1, nail2, (0,0,0), 1)  # Draw black lines\n",
    "    return canvas\n",
    "\n",
    "# Example usage\n",
    "if __name__ == \"__main__\":\n",
    "    # Load and preprocess the image\n",
    "    image = cv2.imread('m.jpg', cv2.IMREAD_GRAYSCALE)\n",
    "    image = cv2.resize(image, (1000, 1000))\n",
    "    _, image = cv2.threshold(image, 127, 255, cv2.THRESH_BINARY_INV)\n",
    "\n",
    "    cv2.imshow('String Art', image)\n",
    "    cv2.waitKey(0)\n",
    "    cv2.destroyAllWindows()\n",
    "    if image is None:\n",
    "        print(\"Error: Could not load image.\")\n",
    "    else:\n",
    "        # Generate string art\n",
    "        nail_positions, sequence = string_art_generator(image, num_nails= 400, max_iterations= 1000)\n",
    "        \n",
    "        # Visualize the result\n",
    "        result = visualize_string_art(image, nail_positions, sequence)\n",
    "        \n",
    "        # Save or display the result\n",
    "        cv2.imwrite('string_art_output.jpg', result)\n",
    "        cv2.imshow('String Art', result)\n",
    "        cv2.waitKey(0)\n",
    "        cv2.destroyAllWindows()"
   ]
  },
  {
   "cell_type": "code",
   "execution_count": 8,
   "metadata": {},
   "outputs": [
    {
     "data": {
      "text/plain": [
       "(array([365., 305.,  17., 286., 269., 154.,  50., 296.,  29., 229.]),\n",
       " array([  0. ,  19.9,  39.8,  59.7,  79.6,  99.5, 119.4, 139.3, 159.2,\n",
       "        179.1, 199. ]),\n",
       " <BarContainer object of 10 artists>)"
      ]
     },
     "execution_count": 8,
     "metadata": {},
     "output_type": "execute_result"
    },
    {
     "data": {
      "image/png": "[encoded data removed]",
      "text/plain": [
       "<Figure size 640x480 with 1 Axes>"
      ]
     },
     "metadata": {},
     "output_type": "display_data"
    }
   ],
   "source": [
    "import matplotlib.pyplot as plt\n",
    "plt.hist(sequence)"
   ]
  },
  {
   "cell_type": "code",
   "execution_count": 9,
   "metadata": {},
   "outputs": [],
   "source": [
    "# https://github.com/grvlbit/stringart"
   ]
  },
  {
   "cell_type": "code",
   "execution_count": null,
   "metadata": {},
   "outputs": [],
   "source": []
  },
  {
   "cell_type": "code",
   "execution_count": null,
   "metadata": {},
   "outputs": [],
   "source": []
  },
  {
   "cell_type": "code",
   "execution_count": null,
   "metadata": {},
   "outputs": [],
   "source": []
  },
  {
   "cell_type": "code",
   "execution_count": null,
   "metadata": {},
   "outputs": [],
   "source": []
  },
  {
   "cell_type": "code",
   "execution_count": null,
   "metadata": {},
   "outputs": [],
   "source": []
  },
  {
   "cell_type": "code",
   "execution_count": null,
   "metadata": {},
   "outputs": [],
   "source": []
  },
  {
   "cell_type": "code",
   "execution_count": null,
   "metadata": {},
   "outputs": [],
   "source": []
  },
  {
   "cell_type": "code",
   "execution_count": null,
   "metadata": {},
   "outputs": [],
   "source": []
  }
 ],
 "metadata": {
  "kernelspec": {
   "display_name": "Python 3",
   "language": "python",
   "name": "python3"
  },
  "language_info": {
   "codemirror_mode": {
    "name": "ipython",
    "version": 3
   },
   "file_extension": ".py",
   "mimetype": "text/x-python",
   "name": "python",
   "nbconvert_exporter": "python",
   "pygments_lexer": "ipython3",
   "version": "3.12.0"
  }
 },
 "nbformat": 4,
 "nbformat_minor": 2
}
